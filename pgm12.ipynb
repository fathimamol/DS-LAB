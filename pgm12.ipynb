{
  "nbformat": 4,
  "nbformat_minor": 0,
  "metadata": {
    "colab": {
      "provenance": [],
      "authorship_tag": "ABX9TyPeJLXCSLnMFG/anfpahMsu",
      "include_colab_link": true
    },
    "kernelspec": {
      "name": "python3",
      "display_name": "Python 3"
    },
    "language_info": {
      "name": "python"
    }
  },
  "cells": [
    {
      "cell_type": "markdown",
      "metadata": {
        "id": "view-in-github",
        "colab_type": "text"
      },
      "source": [
        "<a href=\"https://colab.research.google.com/github/fathimamol/DS-LAB/blob/main/pgm12.ipynb\" target=\"_parent\"><img src=\"https://colab.research.google.com/assets/colab-badge.svg\" alt=\"Open In Colab\"/></a>"
      ]
    },
    {
      "cell_type": "code",
      "execution_count": 1,
      "metadata": {
        "colab": {
          "base_uri": "https://localhost:8080/"
        },
        "id": "kT13_7YzteLA",
        "outputId": "20d402d6-8638-4251-92de-44acda05afd5"
      },
      "outputs": [
        {
          "output_type": "stream",
          "name": "stdout",
          "text": [
            "intercept: [0.00000000e+00 1.06581410e-14 3.55271368e-15]\n",
            "coefficients:\n",
            "prediction:[[  7.8  38.9  50.6]\n",
            " [238.2  34.3   5.3]\n",
            " [135.2  41.7  45.9]\n",
            " [217.7  33.5  59. ]\n",
            " [241.7  38.   23.2]\n",
            " [206.8   5.2  19.4]\n",
            " [139.2  14.3  25.6]\n",
            " [197.6   3.5   5.9]\n",
            " [216.4  41.7  39.6]\n",
            " [216.8  43.9  27.2]\n",
            " [117.2  14.7   5.4]\n",
            " [229.5  32.3  74.2]\n",
            " [ 56.2   5.7  29.7]\n",
            " [187.8  21.1   9.5]\n",
            " [ 87.2  11.8  25.9]\n",
            " [ 94.2   4.9   8.1]\n",
            " [149.7  35.6   6. ]\n",
            " [170.2   7.8  35.2]\n",
            " [163.5  36.8   7.4]\n",
            " [112.9  17.4  38.6]\n",
            " [214.7  24.    4. ]\n",
            " [129.4   5.7  31.3]\n",
            " [195.4  47.7  52.9]\n",
            " [177.   33.4  38.7]\n",
            " [184.9  21.   22. ]\n",
            " [220.3  49.    3.2]\n",
            " [219.8  33.5  45.1]\n",
            " [ 75.3  20.3  32.5]\n",
            " [184.9  43.9   1.7]\n",
            " [123.1  34.6  12.4]\n",
            " [ 68.4  44.5  35.6]\n",
            " [ 69.    9.3   0.9]\n",
            " [121.    8.4  48.7]\n",
            " [188.4  18.1  25.6]\n",
            " [ 50.   11.6  18.4]\n",
            " [120.5  28.5  14.2]\n",
            " [ 97.2   1.5  30. ]\n",
            " [168.4   7.1  12.8]\n",
            " [222.4   3.4  13.1]\n",
            " [193.2  18.4  65.7]\n",
            " [215.4  23.6  57.6]\n",
            " [175.7  15.4   2.4]\n",
            " [164.5  20.9  47.4]\n",
            " [218.5   5.4  27.4]\n",
            " [120.2  19.6  11.6]\n",
            " [ 89.7   9.9  35.7]\n",
            " [ 16.9  43.7  89.4]\n",
            " [248.8  27.1  22.9]\n",
            " [ 70.6  16.   40.8]\n",
            " [ 38.2   3.7  13.8]\n",
            " [202.5  22.3  31.6]\n",
            " [171.3  39.7  37.7]\n",
            " [ 75.1  35.   52.7]\n",
            " [131.1  42.8  28.9]\n",
            " [210.7  29.5   9.3]\n",
            " [ 44.5  39.3  45.1]\n",
            " [ 17.2   4.1  31.6]\n",
            " [ 25.6  39.    9.3]\n",
            " [197.6  23.3  14.2]\n",
            " [ 85.7  35.8  49.3]]\n"
          ]
        }
      ],
      "source": [
        "import pandas as pd\n",
        "dst=pd.read_csv('./advertising.csv')\n",
        "dst.head()\n",
        "x=dst.iloc[:,:-1]\n",
        "y=dst.iloc[:,:-1]\n",
        "x.head()\n",
        "from sklearn.model_selection import train_test_split\n",
        "x_train,x_test,y_train,y_test=train_test_split(x,y,test_size=0.3,random_state=100)\n",
        "from sklearn.linear_model import LinearRegression\n",
        "mr=LinearRegression()\n",
        "mr.fit(x_train,y_train)\n",
        "print('intercept:',mr.intercept_)\n",
        "print(\"coefficients:\")\n",
        "list(zip(x,mr.coef_))\n",
        "y_pred=mr.predict(x_test)\n",
        "print(\"prediction:{}\".format(y_pred))"
      ]
    }
  ]
}